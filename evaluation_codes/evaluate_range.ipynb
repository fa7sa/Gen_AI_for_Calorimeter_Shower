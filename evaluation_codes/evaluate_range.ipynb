{
 "cells": [
  {
   "cell_type": "code",
   "execution_count": 1,
   "id": "2d85b9f9-2bcc-400a-92f1-ad6d4a64659b",
   "metadata": {
    "tags": []
   },
   "outputs": [
    {
     "name": "stdout",
     "output_type": "stream",
     "text": [
      "[[0, 1, 2, 3, 4], [5, 6, 7, 8, 9], [10, 11, 12, 13, 14], [15, 16, 17, 18, 19], [20, 21, 22, 23, 24], [25, 26, 27, 28, 29], [30, 31, 32, 33, 34], [35, 36, 37, 38, 39], [40, 41, 42, 43, 44]]\n"
     ]
    }
   ],
   "source": [
    "result = [[i+j for j in range(5)] for i in range(0, 45, 5)]\n",
    "\n",
    "# Print the result\n",
    "print(result)"
   ]
  },
  {
   "cell_type": "code",
   "execution_count": 1,
   "id": "04ffaa45-4c54-48c0-bc53-de40dab5d14e",
   "metadata": {},
   "outputs": [],
   "source": [
    "import numpy as np\n",
    "import h5py\n",
    "import matplotlib.pyplot as plt\n",
    "import os\n",
    "from scipy.stats import pearsonr\n",
    "import torch\n",
    "from torch.utils.data import TensorDataset, DataLoader\n",
    "from sklearn.model_selection import train_test_split\n",
    "import HighLevelFeatures as HLF"
   ]
  },
  {
   "cell_type": "code",
   "execution_count": 2,
   "id": "03800e12-f2ae-483c-b7f8-786675c5a309",
   "metadata": {
    "tags": []
   },
   "outputs": [],
   "source": [
    "def file_read(file_name):\n",
    "    with h5py.File(file_name, \"r\") as h5f:\n",
    "        e = h5f['incident_energies'][::].astype(np.float32)  \n",
    "        shower = h5f['showers'][::].astype(np.float32)\n",
    "        \n",
    "    return e, shower"
   ]
  },
  {
   "cell_type": "code",
   "execution_count": 3,
   "id": "c865066b-b3e4-4ac4-9640-a92b62af23da",
   "metadata": {
    "tags": []
   },
   "outputs": [
    {
     "name": "stdout",
     "output_type": "stream",
     "text": [
      "(100000, 1) (100000, 6480)\n"
     ]
    }
   ],
   "source": [
    "file_ds2='/scratch/fa7sa/IJCAI_experiment/dataset_2/dataset_2_2.hdf5'\n",
    "e,shower=file_read(file_ds2)\n",
    "print(e.shape,shower.shape)\n",
    "file2='/scratch/fa7sa/CaloDiffusionPaper/scripts/test_ds2_100000.h5'\n",
    "e2,shower2=file_read(file2)\n",
    "file3='/scratch/fa7sa/CaloINN/results/20240320_101824_eplus_good/samples.hdf5'\n",
    "e3,shower3=file_read(file3)"
   ]
  },
  {
   "cell_type": "code",
   "execution_count": 4,
   "id": "17360120-1b05-4087-97ca-125439ae2870",
   "metadata": {
    "tags": []
   },
   "outputs": [
    {
     "data": {
      "image/png": "[encoded data removed]",
      "text/plain": [
       "<Figure size 432x288 with 1 Axes>"
      ]
     },
     "metadata": {
      "needs_background": "light"
     },
     "output_type": "display_data"
    }
   ],
   "source": [
    "bins = np.logspace(3,6,30)\n",
    "plt.hist(e, bins=bins)\n",
    "plt.xscale('log')\n",
    "plt.xlabel('Energy [MeV]')\n",
    "plt.ylabel('Num. showers')\n",
    "plt.show()"
   ]
  },
  {
   "cell_type": "code",
   "execution_count": 5,
   "id": "79a7e314-499b-4d0f-afc6-c1ae87131e5a",
   "metadata": {
    "tags": []
   },
   "outputs": [
    {
     "data": {
      "image/png": "[encoded data removed]",
      "text/plain": [
       "<Figure size 432x288 with 1 Axes>"
      ]
     },
     "metadata": {
      "needs_background": "light"
     },
     "output_type": "display_data"
    }
   ],
   "source": [
    "bins = np.logspace(3,6,30)\n",
    "plt.hist(e2, bins=bins)\n",
    "plt.xscale('log')\n",
    "plt.xlabel('Energy [MeV]')\n",
    "plt.ylabel('Num. showers')\n",
    "plt.show()"
   ]
  },
  {
   "cell_type": "code",
   "execution_count": 6,
   "id": "3fdf6fce-4007-4a8e-9be7-290ff00e850d",
   "metadata": {
    "tags": []
   },
   "outputs": [
    {
     "data": {
      "image/png": "[encoded data removed]",
      "text/plain": [
       "<Figure size 432x288 with 1 Axes>"
      ]
     },
     "metadata": {
      "needs_background": "light"
     },
     "output_type": "display_data"
    }
   ],
   "source": [
    "bins = np.logspace(3,6,30)\n",
    "plt.hist(e3, bins=bins)\n",
    "plt.xscale('log')\n",
    "plt.xlabel('Energy [MeV]')\n",
    "plt.ylabel('Num. showers')\n",
    "plt.show()"
   ]
  },
  {
   "cell_type": "code",
   "execution_count": 44,
   "id": "2b6e115d-bfec-4022-9731-1a53828767fd",
   "metadata": {
    "tags": []
   },
   "outputs": [
    {
     "data": {
      "text/plain": [
       "array([1000.0349], dtype=float32)"
      ]
     },
     "execution_count": 44,
     "metadata": {},
     "output_type": "execute_result"
    }
   ],
   "source": [
    "min(e3)"
   ]
  },
  {
   "cell_type": "code",
   "execution_count": 11,
   "id": "a017861a-1945-4515-9a08-a0ac6427bca3",
   "metadata": {
    "tags": []
   },
   "outputs": [
    {
     "name": "stdout",
     "output_type": "stream",
     "text": [
      "[   1000.   10000.  100000. 1000000.]\n"
     ]
    }
   ],
   "source": [
    "#1 GeV to 1 TeV\n",
    "target_energies = 10**np.linspace(3, 6, 4)\n",
    "print(target_energies)\n"
   ]
  },
  {
   "cell_type": "code",
   "execution_count": 35,
   "id": "cbd0d6d4-ab89-4d36-abd1-bd449b7c2e00",
   "metadata": {
    "tags": []
   },
   "outputs": [],
   "source": [
    "def _separation_power(hist1, hist2, bins):\n",
    "    \"\"\" computes the separation power aka triangular discrimination (cf eq. 15 of 2009.03796)\n",
    "        Note: the definition requires Sum (hist_i) = 1, so if hist1 and hist2 come from\n",
    "        plt.hist(..., density=True), we need to multiply hist_i by the bin widhts\n",
    "    \"\"\"\n",
    "    hist1, hist2 = hist1*np.diff(bins), hist2*np.diff(bins)\n",
    "    ret = (hist1 - hist2)**2\n",
    "    ret /= hist1 + hist2 + 1e-16\n",
    "    return 0.5 * ret.sum()\n",
    "\n",
    "\n",
    "\n",
    "min_energy=0.5e-6/0.033\n",
    "x_scale='log'\n",
    "def plot_E_group_layers_(hlf_class, reference_class,hlf_class_2,name):\n",
    "    \"\"\" plots energy deposited in 5 consecutive layers by creating a group of 5 layers\"\"\"\n",
    "    # this is only applicable for dataset 2 and dataset 3. Dataset 1 does not need this\n",
    "    fig, axs = plt.subplots(3, 3, figsize=(15, 15))\n",
    "    fig.text(0.5, 0.0, 'E_inc of '+name, ha='center', fontsize=20)\n",
    "    \n",
    "    keys = [[i+j for j in range(5)] for i in range(0, 45, 5)]\n",
    "    axs = axs.flatten()\n",
    "    #pp=reference_class.GetElayers()[0].shape[0]\n",
    "    for i,key in enumerate(keys):\n",
    "        shape_a=reference_class.GetElayers()[0].shape[0]\n",
    "        \n",
    "        selected_ref = [reference_class.GetElayers()[i].reshape(shape_a,1)/1000 for i in key]#turning into GeV\n",
    "        combined_ref = np.concatenate(selected_ref, axis=1)\n",
    "        #print(\"Shape of combined array:\", combined_ref.shape)\n",
    "        mean_ref = np.mean(combined_ref, axis=1, keepdims=True) \n",
    "        #print(\"mean_ref\",mean_ref.shape)\n",
    "        #print(hlf_class.GetElayers().keys())\n",
    "        shape_b=hlf_class.GetElayers()[0].shape[0]\n",
    "        selected_hlf=[hlf_class.GetElayers()[i].reshape(shape_b,1)/1000 for i in key]#turning into GeV\n",
    "        combined_hlf = np.concatenate(selected_hlf, axis=1)\n",
    "        mean_hlf = np.mean(combined_hlf, axis=1, keepdims=True) \n",
    "        \n",
    "        shape_c=hlf_class_2.GetElayers()[0].shape[0]\n",
    "        selected_hlf_2=[hlf_class_2.GetElayers()[i].reshape(shape_c,1)/1000 for i in key]#turning into GeV\n",
    "        combined_hlf_2 = np.concatenate(selected_hlf_2, axis=1)\n",
    "        mean_hlf_2 = np.mean(combined_hlf_2, axis=1, keepdims=True) \n",
    "        \n",
    "        \n",
    "        \n",
    "        \n",
    "        \n",
    "        if x_scale == 'log':\n",
    "            #min_energy=\n",
    "            bins = np.logspace(np.log10(min_energy),\n",
    "                               np.log10(mean_ref.max()),\n",
    "                               40)\n",
    "        else:\n",
    "            bins = 40\n",
    "            \n",
    "            \n",
    "            \n",
    "        counts_ref, bins, _ = axs[i].hist(mean_ref, bins=bins,\n",
    "                                       label='Geant4', density=True, histtype='step',color='black',\n",
    "                                       alpha=0.2, linewidth=3.)\n",
    "        counts_data, _, _ = axs[i].hist(mean_hlf, label='Calodiff', bins=bins,\n",
    "                                     histtype='step',color='salmon', linewidth=3., alpha=1., density=True)\n",
    "        \n",
    "        counts_data_2, _, _ = axs[i].hist(mean_hlf_2, label='CaloINN', bins=bins,\n",
    "                                     histtype='step',color='green', linewidth=3., alpha=1., density=True)\n",
    "        \n",
    "        axs[i].set_title(\"layer {} to {}\".format(key[0],key[4]))\n",
    "        axs[i].set_xlabel(r'$E$ [GeV]')\n",
    "        axs[i].set_yscale('log')\n",
    "        axs[i].set_xscale('log')\n",
    "        #plt.legend(fontsize=20)\n",
    "        axs[i].legend(['Geant4 (dataset 2)','CaloDiff','CaloINN'],fontsize=12,prop={'size': 10},loc='upper right', bbox_to_anchor=(1.0, 1.0))\n",
    "        test1=_separation_power(counts_ref, counts_data, bins)\n",
    "        test2=_separation_power(counts_ref, counts_data_2, bins)\n",
    "        \n",
    "#         with open('histogram_chi2_{}.txt'.format(2),\n",
    "#                   'a') as f:\n",
    "#             f.write(\"separation power between (Geant4 and CaloDiff) is {} and (Geant4 and CaloINN)is {} for layer {} to {} where E_inc is\".format(test1,test2,key[0],key[4],name))\n",
    "\n",
    "#             f.write('\\n\\n')\n",
    "\n",
    "        print(\"separation power between (Geant4 and CaloDiff) is {} and (Geant4 and CaloINN)is {} for layer {} to {}\".format(test1,test2,key[0],key[4]))\n",
    "\n",
    "    plt.tight_layout(pad=3.0)\n",
    "    \n",
    "\n",
    "    filename =  'E_layers_dataset_{}_{}.pdf'.format(\n",
    "        2,name)\n",
    "        #, dpi=300\n",
    "    plt.savefig(filename,dpi=300)\n",
    "\n",
    "    plt.close()\n",
    "    \n",
    "    "
   ]
  },
  {
   "cell_type": "code",
   "execution_count": 14,
   "id": "b82cb883-83d1-4a03-95c3-35af93a98334",
   "metadata": {
    "tags": []
   },
   "outputs": [],
   "source": [
    "#from evaluate_plotting_helper import *\n",
    "\n",
    "binning_file=\"/scratch/fa7sa/IJCAI_experiment/homepage/code/binning_dataset_2.xml\"\n",
    "particle='electron'\n",
    "hlf = HLF.HighLevelFeatures(particle,binning_file)\n",
    "ref_hlf=HLF.HighLevelFeatures(particle,binning_file)\n",
    "ref_hlf.Einc=e\n",
    "hlf.Einc=e2\n",
    "ref_hlf.CalculateFeatures(shower)\n",
    "hlf.CalculateFeatures(shower2)\n"
   ]
  },
  {
   "cell_type": "code",
   "execution_count": 23,
   "id": "e8bc2dc9-a79d-44c2-88a8-92407e9589d4",
   "metadata": {
    "tags": []
   },
   "outputs": [
    {
     "name": "stdout",
     "output_type": "stream",
     "text": [
      "mean_ref (100000, 1)\n",
      "dict_keys([0, 1, 2, 3, 4, 5, 6, 7, 8, 9, 10, 11, 12, 13, 14, 15, 16, 17, 18, 19, 20, 21, 22, 23, 24, 25, 26, 27, 28, 29, 30, 31, 32, 33, 34, 35, 36, 37, 38, 39, 40, 41, 42, 43, 44])\n",
      "mean_ref (100000, 1)\n",
      "dict_keys([0, 1, 2, 3, 4, 5, 6, 7, 8, 9, 10, 11, 12, 13, 14, 15, 16, 17, 18, 19, 20, 21, 22, 23, 24, 25, 26, 27, 28, 29, 30, 31, 32, 33, 34, 35, 36, 37, 38, 39, 40, 41, 42, 43, 44])\n",
      "mean_ref (100000, 1)\n",
      "dict_keys([0, 1, 2, 3, 4, 5, 6, 7, 8, 9, 10, 11, 12, 13, 14, 15, 16, 17, 18, 19, 20, 21, 22, 23, 24, 25, 26, 27, 28, 29, 30, 31, 32, 33, 34, 35, 36, 37, 38, 39, 40, 41, 42, 43, 44])\n",
      "mean_ref (100000, 1)\n",
      "dict_keys([0, 1, 2, 3, 4, 5, 6, 7, 8, 9, 10, 11, 12, 13, 14, 15, 16, 17, 18, 19, 20, 21, 22, 23, 24, 25, 26, 27, 28, 29, 30, 31, 32, 33, 34, 35, 36, 37, 38, 39, 40, 41, 42, 43, 44])\n",
      "mean_ref (100000, 1)\n",
      "dict_keys([0, 1, 2, 3, 4, 5, 6, 7, 8, 9, 10, 11, 12, 13, 14, 15, 16, 17, 18, 19, 20, 21, 22, 23, 24, 25, 26, 27, 28, 29, 30, 31, 32, 33, 34, 35, 36, 37, 38, 39, 40, 41, 42, 43, 44])\n",
      "mean_ref (100000, 1)\n",
      "dict_keys([0, 1, 2, 3, 4, 5, 6, 7, 8, 9, 10, 11, 12, 13, 14, 15, 16, 17, 18, 19, 20, 21, 22, 23, 24, 25, 26, 27, 28, 29, 30, 31, 32, 33, 34, 35, 36, 37, 38, 39, 40, 41, 42, 43, 44])\n",
      "mean_ref (100000, 1)\n",
      "dict_keys([0, 1, 2, 3, 4, 5, 6, 7, 8, 9, 10, 11, 12, 13, 14, 15, 16, 17, 18, 19, 20, 21, 22, 23, 24, 25, 26, 27, 28, 29, 30, 31, 32, 33, 34, 35, 36, 37, 38, 39, 40, 41, 42, 43, 44])\n",
      "mean_ref (100000, 1)\n",
      "dict_keys([0, 1, 2, 3, 4, 5, 6, 7, 8, 9, 10, 11, 12, 13, 14, 15, 16, 17, 18, 19, 20, 21, 22, 23, 24, 25, 26, 27, 28, 29, 30, 31, 32, 33, 34, 35, 36, 37, 38, 39, 40, 41, 42, 43, 44])\n",
      "mean_ref (100000, 1)\n",
      "dict_keys([0, 1, 2, 3, 4, 5, 6, 7, 8, 9, 10, 11, 12, 13, 14, 15, 16, 17, 18, 19, 20, 21, 22, 23, 24, 25, 26, 27, 28, 29, 30, 31, 32, 33, 34, 35, 36, 37, 38, 39, 40, 41, 42, 43, 44])\n"
     ]
    }
   ],
   "source": [
    "plot_E_group_layers_(hlf,ref_hlf,name=\"all\")"
   ]
  },
  {
   "cell_type": "code",
   "execution_count": 36,
   "id": "f758a19b-3577-428d-b4cf-1ac89a727ab6",
   "metadata": {
    "tags": []
   },
   "outputs": [
    {
     "name": "stdout",
     "output_type": "stream",
     "text": [
      "separation power between (Geant4 and CaloDiff) is 0.00142770875659294 and (Geant4 and CaloINN)is 0.09872512742938437 for layer 0 to 4\n",
      "separation power between (Geant4 and CaloDiff) is 0.0016450463657536815 and (Geant4 and CaloINN)is 0.02202911039774779 for layer 5 to 9\n",
      "separation power between (Geant4 and CaloDiff) is 0.0027218291161286642 and (Geant4 and CaloINN)is 0.07057526976566982 for layer 10 to 14\n",
      "separation power between (Geant4 and CaloDiff) is 0.0026625041465853758 and (Geant4 and CaloINN)is 0.0680575860484981 for layer 15 to 19\n",
      "separation power between (Geant4 and CaloDiff) is 0.004607716020364513 and (Geant4 and CaloINN)is 0.02905975814207906 for layer 20 to 24\n",
      "separation power between (Geant4 and CaloDiff) is 0.00947634433510152 and (Geant4 and CaloINN)is 0.01220943107188537 for layer 25 to 29\n",
      "separation power between (Geant4 and CaloDiff) is 0.012861795248705218 and (Geant4 and CaloINN)is 0.022284417094743672 for layer 30 to 34\n",
      "separation power between (Geant4 and CaloDiff) is 0.01994161856028987 and (Geant4 and CaloINN)is 0.05047211878794137 for layer 35 to 39\n",
      "separation power between (Geant4 and CaloDiff) is 0.038383660954415595 and (Geant4 and CaloINN)is 0.10938805879853572 for layer 40 to 44\n",
      "separation power between (Geant4 and CaloDiff) is 0.00026635645060309085 and (Geant4 and CaloINN)is 0.03746614795045344 for layer 0 to 4\n",
      "separation power between (Geant4 and CaloDiff) is 0.0005116578794374891 and (Geant4 and CaloINN)is 0.0062941579204203015 for layer 5 to 9\n",
      "separation power between (Geant4 and CaloDiff) is 0.00028916001334132756 and (Geant4 and CaloINN)is 0.011868057741961976 for layer 10 to 14\n",
      "separation power between (Geant4 and CaloDiff) is 0.0004771914482543692 and (Geant4 and CaloINN)is 0.01554830449557482 for layer 15 to 19\n",
      "separation power between (Geant4 and CaloDiff) is 0.000984247186869229 and (Geant4 and CaloINN)is 0.016217494496712767 for layer 20 to 24\n",
      "separation power between (Geant4 and CaloDiff) is 0.0023352244209651953 and (Geant4 and CaloINN)is 0.01504212226821441 for layer 25 to 29\n",
      "separation power between (Geant4 and CaloDiff) is 0.004193278903930114 and (Geant4 and CaloINN)is 0.013286007428607997 for layer 30 to 34\n",
      "separation power between (Geant4 and CaloDiff) is 0.007769397896194317 and (Geant4 and CaloINN)is 0.020844789773495756 for layer 35 to 39\n",
      "separation power between (Geant4 and CaloDiff) is 0.012654727368455253 and (Geant4 and CaloINN)is 0.03664019879292359 for layer 40 to 44\n",
      "separation power between (Geant4 and CaloDiff) is 0.0006260658043991214 and (Geant4 and CaloINN)is 0.12912001565021164 for layer 0 to 4\n",
      "separation power between (Geant4 and CaloDiff) is 0.0003026340084311199 and (Geant4 and CaloINN)is 0.043006729224223356 for layer 5 to 9\n",
      "separation power between (Geant4 and CaloDiff) is 6.861338004341156e-05 and (Geant4 and CaloINN)is 0.0014470114028586273 for layer 10 to 14\n",
      "separation power between (Geant4 and CaloDiff) is 0.00025753217031082115 and (Geant4 and CaloINN)is 0.03004891121295975 for layer 15 to 19\n",
      "separation power between (Geant4 and CaloDiff) is 0.0005721841576011511 and (Geant4 and CaloINN)is 0.05506177585680661 for layer 20 to 24\n",
      "separation power between (Geant4 and CaloDiff) is 0.0008141155527234582 and (Geant4 and CaloINN)is 0.057568514677028886 for layer 25 to 29\n",
      "separation power between (Geant4 and CaloDiff) is 0.0008986939177697839 and (Geant4 and CaloINN)is 0.04518497877287257 for layer 30 to 34\n",
      "separation power between (Geant4 and CaloDiff) is 0.0017344677352562697 and (Geant4 and CaloINN)is 0.02924936474911552 for layer 35 to 39\n",
      "separation power between (Geant4 and CaloDiff) is 0.002912688443840596 and (Geant4 and CaloINN)is 0.013253148216151707 for layer 40 to 44\n",
      "done testing...\n"
     ]
    }
   ],
   "source": [
    "\n",
    "# for each loop new kore ekekta class create kori.\n",
    "\n",
    "\n",
    "\n",
    "for i in range(len(target_energies)-1):\n",
    "    \n",
    "    hlf = HLF.HighLevelFeatures(particle,binning_file)\n",
    "    hlf_2=HLF.HighLevelFeatures(particle,binning_file)\n",
    "    ref_hlf=HLF.HighLevelFeatures(particle,binning_file)\n",
    "    filename = str(target_energies[i]/1000)+'GeV to <'+str(target_energies[i+1]/1000)+' GeV'\n",
    "    which_showers = ((e >= target_energies[i]) & \\\n",
    "                     (e < target_energies[i+1])).squeeze()\n",
    "    ref_hlf.Einc=e[which_showers]\n",
    "    ref_hlf.CalculateFeatures(shower[which_showers])\n",
    "    \n",
    "\n",
    "    # print(which_showers.shape)\n",
    "    # print(shower[which_showers].shape)\n",
    "    \n",
    "    \n",
    "    which_showers_1=((e2 >= target_energies[i]) & \\\n",
    "                     (e2 < target_energies[i+1])).squeeze()\n",
    "    hlf.Einc=e2[which_showers_1]\n",
    "    hlf.CalculateFeatures(shower2[which_showers_1])\n",
    "    # print(which_showers_1.shape)\n",
    "    # print(shower2[which_showers_1].shape)\n",
    "    \n",
    "    \n",
    "    which_showers_2=((e3 >= target_energies[i]) & \\\n",
    "                     (e3 < target_energies[i+1])).squeeze()\n",
    "    hlf_2.Einc=e3[which_showers_2]\n",
    "    hlf_2.CalculateFeatures(shower3[which_showers_2])\n",
    "    \n",
    "    plot_E_group_layers_(hlf,ref_hlf,hlf_2,name=filename)\n",
    "    \n",
    "    \n",
    "    \n",
    "    \n",
    "    \n",
    "\n",
    "#     if reference_hlf.E_tot is None:\n",
    "#         reference_hlf.CalculateFeatures(reference_shower[which_showers])\n",
    "\n",
    "#     print(\"Calculating high-level features for histograms: DONE.\\n\")\n",
    "\n",
    "#     plot_test(hlf,reference_hlf,args,filename)\n",
    "\n",
    "print(\"done testing...\")\n"
   ]
  },
  {
   "cell_type": "code",
   "execution_count": 37,
   "id": "33dfaa73-0202-4e57-8e65-e66c0c368475",
   "metadata": {},
   "outputs": [
    {
     "name": "stdout",
     "output_type": "stream",
     "text": [
      "separation power between (Geant4 and CaloDiff) is 0.0004511843242095175 and (Geant4 and CaloINN)is 0.06431561161486653 for layer 0 to 4\n",
      "separation power between (Geant4 and CaloDiff) is 0.0004920857057294889 and (Geant4 and CaloINN)is 0.019129614071720508 for layer 5 to 9\n",
      "separation power between (Geant4 and CaloDiff) is 0.0006324147326040474 and (Geant4 and CaloINN)is 0.019925275978613908 for layer 10 to 14\n",
      "separation power between (Geant4 and CaloDiff) is 0.0006432502969349854 and (Geant4 and CaloINN)is 0.02524438844941321 for layer 15 to 19\n",
      "separation power between (Geant4 and CaloDiff) is 0.0010131349594278238 and (Geant4 and CaloINN)is 0.02173233769429525 for layer 20 to 24\n",
      "separation power between (Geant4 and CaloDiff) is 0.0018427673634315981 and (Geant4 and CaloINN)is 0.020331330806339164 for layer 25 to 29\n",
      "separation power between (Geant4 and CaloDiff) is 0.0018637490880717446 and (Geant4 and CaloINN)is 0.018847405528323428 for layer 30 to 34\n",
      "separation power between (Geant4 and CaloDiff) is 0.0029667950499391907 and (Geant4 and CaloINN)is 0.011901155682096777 for layer 35 to 39\n",
      "separation power between (Geant4 and CaloDiff) is 0.004844772214988304 and (Geant4 and CaloINN)is 0.005741516201022057 for layer 40 to 44\n"
     ]
    }
   ],
   "source": [
    "# for the whole dataset.\n",
    "filename='all'\n",
    "hlf = HLF.HighLevelFeatures(particle,binning_file)\n",
    "hlf_2=HLF.HighLevelFeatures(particle,binning_file)\n",
    "ref_hlf=HLF.HighLevelFeatures(particle,binning_file)\n",
    "\n",
    "ref_hlf.Einc=e\n",
    "ref_hlf.CalculateFeatures(shower)\n",
    "\n",
    "hlf.Einc=e2\n",
    "hlf.CalculateFeatures(shower2)\n",
    "\n",
    "\n",
    "hlf_2.Einc=e3\n",
    "hlf_2.CalculateFeatures(shower3)\n",
    "    \n",
    "plot_E_group_layers_(hlf,ref_hlf,hlf_2,name=filename)"
   ]
  },
  {
   "cell_type": "code",
   "execution_count": null,
   "id": "86ad816d-91f9-4515-985f-8f5465153a66",
   "metadata": {},
   "outputs": [],
   "source": []
  }
 ],
 "metadata": {
  "kernelspec": {
   "display_name": "AMPTorch (20201028) Active Learning",
   "language": "python",
   "name": "amptorch-20201028-al"
  },
  "language_info": {
   "codemirror_mode": {
    "name": "ipython",
    "version": 3
   },
   "file_extension": ".py",
   "mimetype": "text/x-python",
   "name": "python",
   "nbconvert_exporter": "python",
   "pygments_lexer": "ipython3",
   "version": "3.6.13"
  }
 },
 "nbformat": 4,
 "nbformat_minor": 5
}
